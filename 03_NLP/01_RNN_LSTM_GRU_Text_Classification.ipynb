{
  "cells": [
    {
      "cell_type": "markdown",
      "id": "24e2b61b",
      "metadata": {
        "id": "24e2b61b"
      },
      "source": [
        "# RNN vs LSTM vs GRU — Hands-on Demo\n",
        "**RNN, LSTM, and GRU** process text and shows an easy-to-follow sentiment analysis example."
      ]
    },
    {
      "cell_type": "markdown",
      "id": "56d55d11",
      "metadata": {
        "id": "56d55d11"
      },
      "source": [
        "## Objectives\n",
        "\n",
        "- Understand *why* sequential models are needed for text.\n",
        "- Build and compare three models: **SimpleRNN**, **LSTM**, and **GRU**.\n",
        "- Train each model on the IMDB sentiment dataset (binary classification).\n",
        "- Compare training curves and evaluation metrics."
      ]
    },
    {
      "cell_type": "markdown",
      "id": "c1ffa47e",
      "metadata": {
        "id": "c1ffa47e"
      },
      "source": [
        "## Runtime & Requirements\n",
        "\n",
        "- Python 3.7+\n",
        "- TensorFlow 2.x (includes Keras API)\n",
        "- numpy, matplotlib\n",
        "\n",
        "If you are on Colab, run:\n",
        "\n",
        "```bash\n",
        "# (Optional) only if TensorFlow is not already available\n",
        "!pip install -q tensorflow\n",
        "```"
      ]
    },
    {
      "cell_type": "code",
      "execution_count": 1,
      "id": "2f51389d",
      "metadata": {
        "colab": {
          "base_uri": "https://localhost:8080/"
        },
        "id": "2f51389d",
        "outputId": "dfd65566-f9d2-4615-96d5-643f76d7dfe0"
      },
      "outputs": [
        {
          "output_type": "stream",
          "name": "stdout",
          "text": [
            "Imports OK\n"
          ]
        }
      ],
      "source": [
        "# 1) Imports\n",
        "# Run this cell to import required libraries\n",
        "import numpy as np\n",
        "import matplotlib.pyplot as plt\n",
        "from tensorflow.keras.datasets import imdb\n",
        "from tensorflow.keras.preprocessing.sequence import pad_sequences\n",
        "from tensorflow.keras.models import Sequential\n",
        "from tensorflow.keras.layers import Embedding, SimpleRNN, LSTM, GRU, Dense\n",
        "from tensorflow.keras.optimizers import Adam\n",
        "from tensorflow.keras.callbacks import EarlyStopping\n",
        "\n",
        "print('Imports OK')"
      ]
    },
    {
      "cell_type": "markdown",
      "id": "14e3aa75",
      "metadata": {
        "id": "14e3aa75"
      },
      "source": [
        "## 2) Load IMDB dataset (pre-tokenized)\n",
        "\n",
        "Keras provides a pre-tokenized IMDB dataset where words are replaced by integer indices. We will load a subset for a fast demo."
      ]
    },
    {
      "cell_type": "code",
      "execution_count": 2,
      "id": "286293cd",
      "metadata": {
        "colab": {
          "base_uri": "https://localhost:8080/"
        },
        "id": "286293cd",
        "outputId": "1cc56e77-2523-462b-bb70-dabc259137e2"
      },
      "outputs": [
        {
          "output_type": "stream",
          "name": "stdout",
          "text": [
            "Downloading data from https://storage.googleapis.com/tensorflow/tf-keras-datasets/imdb.npz\n",
            "\u001b[1m17464789/17464789\u001b[0m \u001b[32m━━━━━━━━━━━━━━━━━━━━\u001b[0m\u001b[37m\u001b[0m \u001b[1m0s\u001b[0m 0us/step\n",
            "Samples: 25000 train, 25000 test\n",
            "\n",
            "Example tokenized review (first):\n",
            "[1, 14, 22, 16, 43, 530, 973, 1622, 1385, 65, 458, 4468, 66, 3941, 4, 173, 36, 256, 5, 25, 100, 43, 838, 112, 50, 670, 2, 9, 35, 480] ...\n",
            "\n",
            "Padded shapes: (25000, 200) (25000, 200)\n"
          ]
        }
      ],
      "source": [
        "# Load IMDB dataset (use top 10k words)\n",
        "VOCAB_SIZE = 10000\n",
        "MAXLEN = 200  # max words per review\n",
        "\n",
        "(x_train, y_train), (x_test, y_test) = imdb.load_data(num_words=VOCAB_SIZE)\n",
        "print('Samples:', len(x_train), 'train,', len(x_test), 'test')\n",
        "\n",
        "# Quick look at a sample (integer tokens)\n",
        "print('\\nExample tokenized review (first):')\n",
        "print(x_train[0][:30], '...')\n",
        "\n",
        "# Pad sequences to MAXLEN\n",
        "x_train_pad = pad_sequences(x_train, maxlen=MAXLEN)\n",
        "x_test_pad = pad_sequences(x_test, maxlen=MAXLEN)\n",
        "\n",
        "print('\\nPadded shapes:', x_train_pad.shape, x_test_pad.shape)"
      ]
    },
    {
      "cell_type": "markdown",
      "id": "14cb7211",
      "metadata": {
        "id": "14cb7211"
      },
      "source": [
        "### Reduce dataset for a faster demo (optional)\n",
        "\n",
        "For classroom demos you may train on a subset (e.g., 5000 samples) to save time. If you have GPU, you can train on full data by skipping the selection step."
      ]
    },
    {
      "cell_type": "code",
      "execution_count": 3,
      "id": "37381654",
      "metadata": {
        "colab": {
          "base_uri": "https://localhost:8080/"
        },
        "id": "37381654",
        "outputId": "25373137-b9b1-416b-8678-eddd44456c00"
      },
      "outputs": [
        {
          "output_type": "stream",
          "name": "stdout",
          "text": [
            "Using train: (5000, 200) test: (1000, 200)\n"
          ]
        }
      ],
      "source": [
        "# OPTIONAL: use smaller subsets to speed up demo\n",
        "USE_SUBSET = True\n",
        "N_TRAIN = 5000\n",
        "N_TEST = 1000\n",
        "\n",
        "if USE_SUBSET:\n",
        "    x_train_sub = x_train_pad[:N_TRAIN]\n",
        "    y_train_sub = y_train[:N_TRAIN]\n",
        "    x_test_sub = x_test_pad[:N_TEST]\n",
        "    y_test_sub = y_test[:N_TEST]\n",
        "else:\n",
        "    x_train_sub, y_train_sub = x_train_pad, y_train\n",
        "    x_test_sub, y_test_sub = x_test_pad, y_test\n",
        "\n",
        "print('Using train:', x_train_sub.shape, 'test:', x_test_sub.shape)"
      ]
    },
    {
      "cell_type": "markdown",
      "id": "574f34db",
      "metadata": {
        "id": "574f34db"
      },
      "source": [
        "## 3) Model builder\n",
        "\n",
        "We'll create a helper function that builds models with the same Embedding + recurrent layer + Dense output. Only the recurrent layer (SimpleRNN / LSTM / GRU) will change."
      ]
    },
    {
      "cell_type": "code",
      "execution_count": 4,
      "id": "6a07b0a6",
      "metadata": {
        "colab": {
          "base_uri": "https://localhost:8080/",
          "height": 307
        },
        "id": "6a07b0a6",
        "outputId": "817e6dc6-c240-4513-88b0-775f9f0e5381"
      },
      "outputs": [
        {
          "output_type": "stream",
          "name": "stdout",
          "text": [
            "Built models:\n"
          ]
        },
        {
          "output_type": "stream",
          "name": "stderr",
          "text": [
            "/usr/local/lib/python3.12/dist-packages/keras/src/layers/core/embedding.py:97: UserWarning: Argument `input_length` is deprecated. Just remove it.\n",
            "  warnings.warn(\n"
          ]
        },
        {
          "output_type": "display_data",
          "data": {
            "text/plain": [
              "\u001b[1mModel: \"sequential\"\u001b[0m\n"
            ],
            "text/html": [
              "<pre style=\"white-space:pre;overflow-x:auto;line-height:normal;font-family:Menlo,'DejaVu Sans Mono',consolas,'Courier New',monospace\"><span style=\"font-weight: bold\">Model: \"sequential\"</span>\n",
              "</pre>\n"
            ]
          },
          "metadata": {}
        },
        {
          "output_type": "display_data",
          "data": {
            "text/plain": [
              "┏━━━━━━━━━━━━━━━━━━━━━━━━━━━━━━━━━┳━━━━━━━━━━━━━━━━━━━━━━━━┳━━━━━━━━━━━━━━━┓\n",
              "┃\u001b[1m \u001b[0m\u001b[1mLayer (type)                   \u001b[0m\u001b[1m \u001b[0m┃\u001b[1m \u001b[0m\u001b[1mOutput Shape          \u001b[0m\u001b[1m \u001b[0m┃\u001b[1m \u001b[0m\u001b[1m      Param #\u001b[0m\u001b[1m \u001b[0m┃\n",
              "┡━━━━━━━━━━━━━━━━━━━━━━━━━━━━━━━━━╇━━━━━━━━━━━━━━━━━━━━━━━━╇━━━━━━━━━━━━━━━┩\n",
              "│ embedding (\u001b[38;5;33mEmbedding\u001b[0m)           │ ?                      │   \u001b[38;5;34m0\u001b[0m (unbuilt) │\n",
              "├─────────────────────────────────┼────────────────────────┼───────────────┤\n",
              "│ simple_rnn (\u001b[38;5;33mSimpleRNN\u001b[0m)          │ ?                      │   \u001b[38;5;34m0\u001b[0m (unbuilt) │\n",
              "├─────────────────────────────────┼────────────────────────┼───────────────┤\n",
              "│ dense (\u001b[38;5;33mDense\u001b[0m)                   │ ?                      │   \u001b[38;5;34m0\u001b[0m (unbuilt) │\n",
              "└─────────────────────────────────┴────────────────────────┴───────────────┘\n"
            ],
            "text/html": [
              "<pre style=\"white-space:pre;overflow-x:auto;line-height:normal;font-family:Menlo,'DejaVu Sans Mono',consolas,'Courier New',monospace\">┏━━━━━━━━━━━━━━━━━━━━━━━━━━━━━━━━━┳━━━━━━━━━━━━━━━━━━━━━━━━┳━━━━━━━━━━━━━━━┓\n",
              "┃<span style=\"font-weight: bold\"> Layer (type)                    </span>┃<span style=\"font-weight: bold\"> Output Shape           </span>┃<span style=\"font-weight: bold\">       Param # </span>┃\n",
              "┡━━━━━━━━━━━━━━━━━━━━━━━━━━━━━━━━━╇━━━━━━━━━━━━━━━━━━━━━━━━╇━━━━━━━━━━━━━━━┩\n",
              "│ embedding (<span style=\"color: #0087ff; text-decoration-color: #0087ff\">Embedding</span>)           │ ?                      │   <span style=\"color: #00af00; text-decoration-color: #00af00\">0</span> (unbuilt) │\n",
              "├─────────────────────────────────┼────────────────────────┼───────────────┤\n",
              "│ simple_rnn (<span style=\"color: #0087ff; text-decoration-color: #0087ff\">SimpleRNN</span>)          │ ?                      │   <span style=\"color: #00af00; text-decoration-color: #00af00\">0</span> (unbuilt) │\n",
              "├─────────────────────────────────┼────────────────────────┼───────────────┤\n",
              "│ dense (<span style=\"color: #0087ff; text-decoration-color: #0087ff\">Dense</span>)                   │ ?                      │   <span style=\"color: #00af00; text-decoration-color: #00af00\">0</span> (unbuilt) │\n",
              "└─────────────────────────────────┴────────────────────────┴───────────────┘\n",
              "</pre>\n"
            ]
          },
          "metadata": {}
        },
        {
          "output_type": "display_data",
          "data": {
            "text/plain": [
              "\u001b[1m Total params: \u001b[0m\u001b[38;5;34m0\u001b[0m (0.00 B)\n"
            ],
            "text/html": [
              "<pre style=\"white-space:pre;overflow-x:auto;line-height:normal;font-family:Menlo,'DejaVu Sans Mono',consolas,'Courier New',monospace\"><span style=\"font-weight: bold\"> Total params: </span><span style=\"color: #00af00; text-decoration-color: #00af00\">0</span> (0.00 B)\n",
              "</pre>\n"
            ]
          },
          "metadata": {}
        },
        {
          "output_type": "display_data",
          "data": {
            "text/plain": [
              "\u001b[1m Trainable params: \u001b[0m\u001b[38;5;34m0\u001b[0m (0.00 B)\n"
            ],
            "text/html": [
              "<pre style=\"white-space:pre;overflow-x:auto;line-height:normal;font-family:Menlo,'DejaVu Sans Mono',consolas,'Courier New',monospace\"><span style=\"font-weight: bold\"> Trainable params: </span><span style=\"color: #00af00; text-decoration-color: #00af00\">0</span> (0.00 B)\n",
              "</pre>\n"
            ]
          },
          "metadata": {}
        },
        {
          "output_type": "display_data",
          "data": {
            "text/plain": [
              "\u001b[1m Non-trainable params: \u001b[0m\u001b[38;5;34m0\u001b[0m (0.00 B)\n"
            ],
            "text/html": [
              "<pre style=\"white-space:pre;overflow-x:auto;line-height:normal;font-family:Menlo,'DejaVu Sans Mono',consolas,'Courier New',monospace\"><span style=\"font-weight: bold\"> Non-trainable params: </span><span style=\"color: #00af00; text-decoration-color: #00af00\">0</span> (0.00 B)\n",
              "</pre>\n"
            ]
          },
          "metadata": {}
        },
        {
          "output_type": "stream",
          "name": "stdout",
          "text": [
            "RNN None\n"
          ]
        }
      ],
      "source": [
        "def build_model(model_type='RNN', vocab_size=10000, embed_dim=64, maxlen=200, rnn_units=64):\n",
        "    \"\"\"\n",
        "    model_type: 'RNN', 'LSTM', or 'GRU'\n",
        "    \"\"\"\n",
        "    model = Sequential()\n",
        "    model.add(Embedding(input_dim=vocab_size, output_dim=embed_dim, input_length=maxlen))\n",
        "\n",
        "    if model_type == 'RNN':\n",
        "        model.add(SimpleRNN(rnn_units))\n",
        "    elif model_type == 'LSTM':\n",
        "        model.add(LSTM(rnn_units))\n",
        "    elif model_type == 'GRU':\n",
        "        model.add(GRU(rnn_units))\n",
        "    else:\n",
        "        raise ValueError('model_type must be RNN, LSTM, or GRU')\n",
        "\n",
        "    model.add(Dense(1, activation='sigmoid'))\n",
        "    model.compile(optimizer=Adam(learning_rate=1e-3), loss='binary_crossentropy', metrics=['accuracy'])\n",
        "    return model\n",
        "\n",
        "# Quick sanity build\n",
        "print('Built models:')\n",
        "for t in ['RNN','LSTM','GRU']:\n",
        "    m = build_model(t, vocab_size=VOCAB_SIZE, embed_dim=32, maxlen=MAXLEN, rnn_units=32)\n",
        "    print(t, m.summary())\n",
        "    break  # show summary only for first to avoid long output"
      ]
    },
    {
      "cell_type": "markdown",
      "id": "0c6ee86c",
      "metadata": {
        "id": "0c6ee86c"
      },
      "source": [
        "## 4) Training function\n",
        "\n",
        "Helper to train a given model and return history. Uses EarlyStopping to prevent overfitting."
      ]
    },
    {
      "cell_type": "code",
      "execution_count": 5,
      "id": "33e315a4",
      "metadata": {
        "id": "33e315a4"
      },
      "outputs": [],
      "source": [
        "def train_and_evaluate(model, x_train, y_train, x_val, y_val, epochs=5, batch_size=64):\n",
        "    es = EarlyStopping(monitor='val_loss', patience=2, restore_best_weights=True)\n",
        "    history = model.fit(x_train, y_train, validation_data=(x_val, y_val), epochs=epochs,\n",
        "                        batch_size=batch_size, callbacks=[es])\n",
        "    loss, acc = model.evaluate(x_val, y_val, verbose=0)\n",
        "    print(f'Val loss: {loss:.4f}  Val acc: {acc:.4f}')\n",
        "    return history\n"
      ]
    },
    {
      "cell_type": "markdown",
      "id": "67a579e0",
      "metadata": {
        "id": "67a579e0"
      },
      "source": [
        "## 5) Train & compare models\n",
        "\n",
        "Run each cell below to train the corresponding model. Training can be slow on CPU. If you are short on time, reduce `N_TRAIN` or `epochs`."
      ]
    },
    {
      "cell_type": "code",
      "execution_count": 6,
      "id": "859e655a",
      "metadata": {
        "colab": {
          "base_uri": "https://localhost:8080/"
        },
        "id": "859e655a",
        "outputId": "fddafdce-6f4e-467c-b450-01935723105e"
      },
      "outputs": [
        {
          "output_type": "stream",
          "name": "stdout",
          "text": [
            "Epoch 1/5\n",
            "\u001b[1m79/79\u001b[0m \u001b[32m━━━━━━━━━━━━━━━━━━━━\u001b[0m\u001b[37m\u001b[0m \u001b[1m8s\u001b[0m 74ms/step - accuracy: 0.5085 - loss: 0.6946 - val_accuracy: 0.5520 - val_loss: 0.6827\n",
            "Epoch 2/5\n",
            "\u001b[1m79/79\u001b[0m \u001b[32m━━━━━━━━━━━━━━━━━━━━\u001b[0m\u001b[37m\u001b[0m \u001b[1m7s\u001b[0m 85ms/step - accuracy: 0.7792 - loss: 0.5748 - val_accuracy: 0.7070 - val_loss: 0.5752\n",
            "Epoch 3/5\n",
            "\u001b[1m79/79\u001b[0m \u001b[32m━━━━━━━━━━━━━━━━━━━━\u001b[0m\u001b[37m\u001b[0m \u001b[1m6s\u001b[0m 76ms/step - accuracy: 0.9387 - loss: 0.2541 - val_accuracy: 0.7240 - val_loss: 0.5678\n",
            "Epoch 4/5\n",
            "\u001b[1m79/79\u001b[0m \u001b[32m━━━━━━━━━━━━━━━━━━━━\u001b[0m\u001b[37m\u001b[0m \u001b[1m10s\u001b[0m 70ms/step - accuracy: 0.9919 - loss: 0.0607 - val_accuracy: 0.7120 - val_loss: 0.6349\n",
            "Epoch 5/5\n",
            "\u001b[1m79/79\u001b[0m \u001b[32m━━━━━━━━━━━━━━━━━━━━\u001b[0m\u001b[37m\u001b[0m \u001b[1m10s\u001b[0m 70ms/step - accuracy: 0.9996 - loss: 0.0158 - val_accuracy: 0.7550 - val_loss: 0.5967\n",
            "Val loss: 0.5678  Val acc: 0.7240\n"
          ]
        }
      ],
      "source": [
        "# Train SimpleRNN\n",
        "model_rnn = build_model('RNN', vocab_size=VOCAB_SIZE, embed_dim=64, maxlen=MAXLEN, rnn_units=64)\n",
        "history_rnn = train_and_evaluate(model_rnn, x_train_sub, y_train_sub, x_test_sub, y_test_sub, epochs=5)\n"
      ]
    },
    {
      "cell_type": "code",
      "execution_count": 7,
      "id": "9fe8b7b6",
      "metadata": {
        "colab": {
          "base_uri": "https://localhost:8080/"
        },
        "id": "9fe8b7b6",
        "outputId": "2b55312a-1c6d-4b9d-aaf7-fc6fc7ceac5d"
      },
      "outputs": [
        {
          "output_type": "stream",
          "name": "stdout",
          "text": [
            "Epoch 1/5\n",
            "\u001b[1m79/79\u001b[0m \u001b[32m━━━━━━━━━━━━━━━━━━━━\u001b[0m\u001b[37m\u001b[0m \u001b[1m15s\u001b[0m 166ms/step - accuracy: 0.5588 - loss: 0.6752 - val_accuracy: 0.7500 - val_loss: 0.5158\n",
            "Epoch 2/5\n",
            "\u001b[1m79/79\u001b[0m \u001b[32m━━━━━━━━━━━━━━━━━━━━\u001b[0m\u001b[37m\u001b[0m \u001b[1m20s\u001b[0m 165ms/step - accuracy: 0.8461 - loss: 0.3633 - val_accuracy: 0.8120 - val_loss: 0.4097\n",
            "Epoch 3/5\n",
            "\u001b[1m79/79\u001b[0m \u001b[32m━━━━━━━━━━━━━━━━━━━━\u001b[0m\u001b[37m\u001b[0m \u001b[1m20s\u001b[0m 153ms/step - accuracy: 0.9268 - loss: 0.2036 - val_accuracy: 0.8170 - val_loss: 0.4247\n",
            "Epoch 4/5\n",
            "\u001b[1m79/79\u001b[0m \u001b[32m━━━━━━━━━━━━━━━━━━━━\u001b[0m\u001b[37m\u001b[0m \u001b[1m22s\u001b[0m 168ms/step - accuracy: 0.9580 - loss: 0.1271 - val_accuracy: 0.8110 - val_loss: 0.8314\n",
            "Val loss: 0.4097  Val acc: 0.8120\n"
          ]
        }
      ],
      "source": [
        "# Train LSTM\n",
        "model_lstm = build_model('LSTM', vocab_size=VOCAB_SIZE, embed_dim=64, maxlen=MAXLEN, rnn_units=64)\n",
        "history_lstm = train_and_evaluate(model_lstm, x_train_sub, y_train_sub, x_test_sub, y_test_sub, epochs=5)\n"
      ]
    },
    {
      "cell_type": "code",
      "execution_count": 8,
      "id": "8d1d65e6",
      "metadata": {
        "colab": {
          "base_uri": "https://localhost:8080/"
        },
        "id": "8d1d65e6",
        "outputId": "5c69b259-d49f-46a3-f839-2915fcceaec6"
      },
      "outputs": [
        {
          "output_type": "stream",
          "name": "stdout",
          "text": [
            "Epoch 1/5\n",
            "\u001b[1m79/79\u001b[0m \u001b[32m━━━━━━━━━━━━━━━━━━━━\u001b[0m\u001b[37m\u001b[0m \u001b[1m18s\u001b[0m 192ms/step - accuracy: 0.5507 - loss: 0.6771 - val_accuracy: 0.7560 - val_loss: 0.4816\n",
            "Epoch 2/5\n",
            "\u001b[1m79/79\u001b[0m \u001b[32m━━━━━━━━━━━━━━━━━━━━\u001b[0m\u001b[37m\u001b[0m \u001b[1m16s\u001b[0m 202ms/step - accuracy: 0.8490 - loss: 0.3426 - val_accuracy: 0.8290 - val_loss: 0.3875\n",
            "Epoch 3/5\n",
            "\u001b[1m79/79\u001b[0m \u001b[32m━━━━━━━━━━━━━━━━━━━━\u001b[0m\u001b[37m\u001b[0m \u001b[1m19s\u001b[0m 189ms/step - accuracy: 0.9389 - loss: 0.1789 - val_accuracy: 0.8210 - val_loss: 0.6041\n",
            "Epoch 4/5\n",
            "\u001b[1m79/79\u001b[0m \u001b[32m━━━━━━━━━━━━━━━━━━━━\u001b[0m\u001b[37m\u001b[0m \u001b[1m21s\u001b[0m 196ms/step - accuracy: 0.9610 - loss: 0.1113 - val_accuracy: 0.8080 - val_loss: 0.5569\n",
            "Val loss: 0.3875  Val acc: 0.8290\n"
          ]
        }
      ],
      "source": [
        "# Train GRU\n",
        "model_gru = build_model('GRU', vocab_size=VOCAB_SIZE, embed_dim=64, maxlen=MAXLEN, rnn_units=64)\n",
        "history_gru = train_and_evaluate(model_gru, x_train_sub, y_train_sub, x_test_sub, y_test_sub, epochs=5)\n"
      ]
    },
    {
      "cell_type": "markdown",
      "id": "043d8a9b",
      "metadata": {
        "id": "043d8a9b"
      },
      "source": [
        "## 6) Plot training curves (accuracy & loss)\n",
        "\n",
        "After training each model, run the plotting cell to compare their training histories."
      ]
    },
    {
      "cell_type": "code",
      "execution_count": 12,
      "id": "c155650f",
      "metadata": {
        "colab": {
          "base_uri": "https://localhost:8080/",
          "height": 487
        },
        "id": "c155650f",
        "outputId": "05b93a4a-3f72-4dab-ea3f-ce4e2594ca8b"
      },
      "outputs": [
        {
          "output_type": "display_data",
          "data": {
            "text/plain": [
              "<Figure size 1000x500 with 1 Axes>"
            ],
            "image/png": "[encoded data removed]"
          },
          "metadata": {}
        }
      ],
      "source": [
        "def plot_histories(histories, metric='accuracy'):\n",
        "    plt.figure(figsize=(10,5))\n",
        "    for name, h in histories.items():\n",
        "        plt.plot(h.history[metric], label=f'{name} train')\n",
        "        plt.plot(h.history['val_' + metric], '--', label=f'{name} val')\n",
        "    plt.title(metric.capitalize())\n",
        "    plt.xlabel('Epoch')\n",
        "    plt.legend()\n",
        "    plt.show()\n",
        "\n",
        "# Example: after running training cells, call:\n",
        "plot_histories({'RNN': history_rnn, 'LSTM': history_lstm, 'GRU': history_gru}, 'accuracy')"
      ]
    },
    {
      "cell_type": "markdown",
      "id": "37039791",
      "metadata": {
        "id": "37039791"
      },
      "source": [
        "## 7) Evaluate and try sample predictions\n",
        "\n",
        "Use the trained models to predict sentiment for custom sentences. We will show how to prepare text."
      ]
    },
    {
      "cell_type": "code",
      "execution_count": 10,
      "id": "9951f2b0",
      "metadata": {
        "colab": {
          "base_uri": "https://localhost:8080/"
        },
        "id": "9951f2b0",
        "outputId": "1d4edeb4-8dad-40d2-db18-ba80e15309a8"
      },
      "outputs": [
        {
          "output_type": "stream",
          "name": "stdout",
          "text": [
            "Downloading data from https://storage.googleapis.com/tensorflow/tf-keras-datasets/imdb_word_index.json\n",
            "\u001b[1m1641221/1641221\u001b[0m \u001b[32m━━━━━━━━━━━━━━━━━━━━\u001b[0m\u001b[37m\u001b[0m \u001b[1m0s\u001b[0m 0us/step\n"
          ]
        }
      ],
      "source": [
        "# Function to decode and predict\n",
        "word_index = imdb.get_word_index()\n",
        "index_word = {v+3:k for k,v in word_index.items()}  # Keras reserves indices 0-2 for special tokens\n",
        "index_word[0] = '<PAD>'\n",
        "index_word[1] = '<START>'\n",
        "index_word[2] = '<UNK>'\n",
        "index_word[3] = '<UNUSED>'\n",
        "\n",
        "def decode_review(encoded_seq):\n",
        "    return ' '.join([index_word.get(i, '?') for i in encoded_seq if i>3])\n",
        "\n",
        "# Prepare new sentence using the tokenizer word index\n",
        "import re\n",
        "\n",
        "def encode_text(text, word_index, maxlen=200):\n",
        "    # simple whitespace tokenizer mapping based on Keras imdb word_index\n",
        "    tokens = re.sub(r\"[^a-zA-Z0-9 ]\", \"\", text.lower()).split()\n",
        "    encoded = [word_index.get(w, 2) for w in tokens]  # 2 = <UNK>\n",
        "    return pad_sequences([encoded], maxlen=maxlen)\n"
      ]
    },
    {
      "cell_type": "code",
      "source": [
        "# Example (run after model trained):\n",
        "sample = \"I absolutely loved this movie. Fantastic performances and great story.\"\n",
        "x_sample = encode_text(sample, word_index, maxlen=MAXLEN)\n",
        "print('RNN predicts:', model_rnn.predict(x_sample))\n",
        "print('LSTM predicts:', model_lstm.predict(x_sample))\n",
        "print('GRU predicts:', model_gru.predict(x_sample))"
      ],
      "metadata": {
        "colab": {
          "base_uri": "https://localhost:8080/"
        },
        "id": "TIU6-yvRmK20",
        "outputId": "f9d236aa-0af5-4b57-b41a-60dfd983664d"
      },
      "id": "TIU6-yvRmK20",
      "execution_count": 11,
      "outputs": [
        {
          "output_type": "stream",
          "name": "stdout",
          "text": [
            "\u001b[1m1/1\u001b[0m \u001b[32m━━━━━━━━━━━━━━━━━━━━\u001b[0m\u001b[37m\u001b[0m \u001b[1m0s\u001b[0m 197ms/step\n",
            "RNN predicts: [[0.6070685]]\n",
            "\u001b[1m1/1\u001b[0m \u001b[32m━━━━━━━━━━━━━━━━━━━━\u001b[0m\u001b[37m\u001b[0m \u001b[1m0s\u001b[0m 214ms/step\n",
            "LSTM predicts: [[0.29297736]]\n",
            "\u001b[1m1/1\u001b[0m \u001b[32m━━━━━━━━━━━━━━━━━━━━\u001b[0m\u001b[37m\u001b[0m \u001b[1m0s\u001b[0m 258ms/step\n",
            "GRU predicts: [[0.96626276]]\n"
          ]
        }
      ]
    }
  ],
  "metadata": {
    "colab": {
      "provenance": []
    },
    "language_info": {
      "name": "python"
    },
    "kernelspec": {
      "name": "python3",
      "display_name": "Python 3"
    }
  },
  "nbformat": 4,
  "nbformat_minor": 5
}