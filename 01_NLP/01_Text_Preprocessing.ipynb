{
  "nbformat": 4,
  "nbformat_minor": 0,
  "metadata": {
    "colab": {
      "provenance": []
    },
    "kernelspec": {
      "name": "python3",
      "display_name": "Python 3"
    },
    "language_info": {
      "name": "python"
    }
  },
  "cells": [
    {
      "cell_type": "markdown",
      "source": [
        "## **Text Preprocessing in NLP**"
      ],
      "metadata": {
        "id": "gKsekPRM9v2n"
      }
    },
    {
      "cell_type": "code",
      "source": [
        "!pip install emoji"
      ],
      "metadata": {
        "colab": {
          "base_uri": "https://localhost:8080/"
        },
        "id": "87fSx1Rn_krI",
        "outputId": "4dad0c09-188a-4281-9b93-fee8d7602d4a"
      },
      "execution_count": 2,
      "outputs": [
        {
          "output_type": "stream",
          "name": "stdout",
          "text": [
            "Collecting emoji\n",
            "  Downloading emoji-2.14.1-py3-none-any.whl.metadata (5.7 kB)\n",
            "Downloading emoji-2.14.1-py3-none-any.whl (590 kB)\n",
            "\u001b[?25l   \u001b[90m━━━━━━━━━━━━━━━━━━━━━━━━━━━━━━━━━━━━━━━━\u001b[0m \u001b[32m0.0/590.6 kB\u001b[0m \u001b[31m?\u001b[0m eta \u001b[36m-:--:--\u001b[0m\r\u001b[2K   \u001b[90m━━━━━━━━━━━━━━━━━━━━━━━━━━━━━━━━━━━━━━━━\u001b[0m \u001b[32m590.6/590.6 kB\u001b[0m \u001b[31m24.0 MB/s\u001b[0m eta \u001b[36m0:00:00\u001b[0m\n",
            "\u001b[?25hInstalling collected packages: emoji\n",
            "Successfully installed emoji-2.14.1\n"
          ]
        }
      ]
    },
    {
      "cell_type": "code",
      "source": [
        "# Import libraries\n",
        "import nltk\n",
        "import re\n",
        "import emoji\n",
        "from nltk.corpus import stopwords\n",
        "from nltk.tokenize import word_tokenize, sent_tokenize\n",
        "from nltk.stem import PorterStemmer, WordNetLemmatizer"
      ],
      "metadata": {
        "id": "976Ea3Ns_dyS"
      },
      "execution_count": 3,
      "outputs": []
    },
    {
      "cell_type": "code",
      "source": [
        "# Download required resources (first run only)\n",
        "nltk.download('punkt')\n",
        "nltk.download('stopwords')\n",
        "nltk.download('wordnet')"
      ],
      "metadata": {
        "colab": {
          "base_uri": "https://localhost:8080/"
        },
        "id": "B6fkx9Gj_foP",
        "outputId": "1442ebfd-f607-4352-e134-9154eb509d9c"
      },
      "execution_count": 4,
      "outputs": [
        {
          "output_type": "stream",
          "name": "stderr",
          "text": [
            "[nltk_data] Downloading package punkt to /root/nltk_data...\n",
            "[nltk_data]   Unzipping tokenizers/punkt.zip.\n",
            "[nltk_data] Downloading package stopwords to /root/nltk_data...\n",
            "[nltk_data]   Unzipping corpora/stopwords.zip.\n",
            "[nltk_data] Downloading package wordnet to /root/nltk_data...\n"
          ]
        },
        {
          "output_type": "execute_result",
          "data": {
            "text/plain": [
              "True"
            ]
          },
          "metadata": {},
          "execution_count": 4
        }
      ]
    },
    {
      "cell_type": "markdown",
      "source": [
        "## **1. Sample Raw Text**"
      ],
      "metadata": {
        "id": "5x8v1rd4_ooM"
      }
    },
    {
      "cell_type": "code",
      "source": [
        "text = \"The cats ARE playing in the Garden!!! NLP makes machines 🤖 intelligent. Price = $100.\"\n",
        "print(\"Original Text:\\n\", text)"
      ],
      "metadata": {
        "colab": {
          "base_uri": "https://localhost:8080/"
        },
        "id": "3doyOKwG_uaQ",
        "outputId": "280bbc10-15b8-4518-df12-896c8b0d3b6a"
      },
      "execution_count": 5,
      "outputs": [
        {
          "output_type": "stream",
          "name": "stdout",
          "text": [
            "Original Text:\n",
            " The cats ARE playing in the Garden!!! NLP makes machines 🤖 intelligent. Price = $100.\n"
          ]
        }
      ]
    },
    {
      "cell_type": "markdown",
      "source": [
        "## **2. Lowercasing**"
      ],
      "metadata": {
        "id": "y1rFhlbb_ymB"
      }
    },
    {
      "cell_type": "code",
      "source": [
        "lower_text = text.lower()\n",
        "print(\"Lowercased Text:\\n\", lower_text)"
      ],
      "metadata": {
        "colab": {
          "base_uri": "https://localhost:8080/"
        },
        "id": "YqabAatE_w7n",
        "outputId": "c2803abb-f740-46d7-f04a-d90f671c26c9"
      },
      "execution_count": 7,
      "outputs": [
        {
          "output_type": "stream",
          "name": "stdout",
          "text": [
            "Lowercased Text:\n",
            " the cats are playing in the garden!!! nlp makes machines 🤖 intelligent. price = $100.\n"
          ]
        }
      ]
    },
    {
      "cell_type": "markdown",
      "source": [
        "## **3. Tokenization**"
      ],
      "metadata": {
        "id": "FYDyt9M6_2Ec"
      }
    },
    {
      "cell_type": "code",
      "source": [
        "import nltk\n",
        "nltk.download('punkt_tab')"
      ],
      "metadata": {
        "colab": {
          "base_uri": "https://localhost:8080/"
        },
        "id": "CNijH5BY_7w5",
        "outputId": "f62134a4-ace8-4950-dd1a-651fc8a89ee3"
      },
      "execution_count": 9,
      "outputs": [
        {
          "output_type": "stream",
          "name": "stderr",
          "text": [
            "[nltk_data] Downloading package punkt_tab to /root/nltk_data...\n",
            "[nltk_data]   Unzipping tokenizers/punkt_tab.zip.\n"
          ]
        },
        {
          "output_type": "execute_result",
          "data": {
            "text/plain": [
              "True"
            ]
          },
          "metadata": {},
          "execution_count": 9
        }
      ]
    },
    {
      "cell_type": "code",
      "source": [
        "# Sentence tokenization\n",
        "sent_tokens = sent_tokenize(text)\n",
        "print(\"Sentence Tokens:\\n\", sent_tokens)"
      ],
      "metadata": {
        "colab": {
          "base_uri": "https://localhost:8080/"
        },
        "id": "vxIq5T2W_4H1",
        "outputId": "fe4c7f78-9f85-45cc-a98e-f581d54173a7"
      },
      "execution_count": 10,
      "outputs": [
        {
          "output_type": "stream",
          "name": "stdout",
          "text": [
            "Sentence Tokens:\n",
            " ['The cats ARE playing in the Garden!!!', 'NLP makes machines 🤖 intelligent.', 'Price = $100.']\n"
          ]
        }
      ]
    },
    {
      "cell_type": "code",
      "source": [
        "# Word tokenization\n",
        "word_tokens = word_tokenize(text)\n",
        "print(\"\\nWord Tokens:\\n\", word_tokens)"
      ],
      "metadata": {
        "colab": {
          "base_uri": "https://localhost:8080/"
        },
        "id": "w_GXz_16_-4x",
        "outputId": "fe3818fd-eb17-4ddd-b400-32077fffa669"
      },
      "execution_count": 11,
      "outputs": [
        {
          "output_type": "stream",
          "name": "stdout",
          "text": [
            "\n",
            "Word Tokens:\n",
            " ['The', 'cats', 'ARE', 'playing', 'in', 'the', 'Garden', '!', '!', '!', 'NLP', 'makes', 'machines', '🤖', 'intelligent', '.', 'Price', '=', '$', '100', '.']\n"
          ]
        }
      ]
    },
    {
      "cell_type": "markdown",
      "source": [
        "## **4. Stopword Removal**"
      ],
      "metadata": {
        "id": "aurT7DYAABwb"
      }
    },
    {
      "cell_type": "code",
      "source": [
        "stop_words = set(stopwords.words('english'))\n",
        "filtered_tokens = [w for w in word_tokens if w.lower() not in stop_words and w.isalpha()]\n",
        "print(\"After Stopword Removal:\\n\", filtered_tokens)"
      ],
      "metadata": {
        "colab": {
          "base_uri": "https://localhost:8080/"
        },
        "id": "SkRh7gW1AA8S",
        "outputId": "11d60a5f-e4ee-4f77-e03f-7c26da712348"
      },
      "execution_count": 12,
      "outputs": [
        {
          "output_type": "stream",
          "name": "stdout",
          "text": [
            "After Stopword Removal:\n",
            " ['cats', 'playing', 'Garden', 'NLP', 'makes', 'machines', 'intelligent', 'Price']\n"
          ]
        }
      ]
    },
    {
      "cell_type": "markdown",
      "source": [
        "## **5. Stemming**"
      ],
      "metadata": {
        "id": "wN9-C9ibAF4R"
      }
    },
    {
      "cell_type": "code",
      "source": [
        "stemmer = PorterStemmer()\n",
        "stemmed = [stemmer.stem(w) for w in filtered_tokens]\n",
        "print(\"After Stemming:\\n\", stemmed)"
      ],
      "metadata": {
        "colab": {
          "base_uri": "https://localhost:8080/"
        },
        "id": "DPK0xb0iAHk0",
        "outputId": "55084811-2f74-4409-839a-ac313683664e"
      },
      "execution_count": 13,
      "outputs": [
        {
          "output_type": "stream",
          "name": "stdout",
          "text": [
            "After Stemming:\n",
            " ['cat', 'play', 'garden', 'nlp', 'make', 'machin', 'intellig', 'price']\n"
          ]
        }
      ]
    },
    {
      "cell_type": "markdown",
      "source": [
        "## **6. Lemmatization**"
      ],
      "metadata": {
        "id": "ymIMXwzrALA5"
      }
    },
    {
      "cell_type": "code",
      "source": [
        "lemmatizer = WordNetLemmatizer()\n",
        "lemmatized = [lemmatizer.lemmatize(w, pos='v') for w in filtered_tokens]\n",
        "print(\"After Lemmatization:\\n\", lemmatized)"
      ],
      "metadata": {
        "colab": {
          "base_uri": "https://localhost:8080/"
        },
        "id": "g4dS6QCRAMhP",
        "outputId": "adb07b47-1db6-4dd1-b809-3e512ab445a0"
      },
      "execution_count": 14,
      "outputs": [
        {
          "output_type": "stream",
          "name": "stdout",
          "text": [
            "After Lemmatization:\n",
            " ['cat', 'play', 'Garden', 'NLP', 'make', 'machine', 'intelligent', 'Price']\n"
          ]
        }
      ]
    },
    {
      "cell_type": "markdown",
      "source": [
        "## **7. Removing Punctuation & Numbers**"
      ],
      "metadata": {
        "id": "kQof6OePAOiV"
      }
    },
    {
      "cell_type": "code",
      "source": [
        "clean_text = re.sub(r'[^a-zA-Z\\s]', '', text)  # keep only alphabets\n",
        "print(\"Without Punctuation & Numbers:\\n\", clean_text)"
      ],
      "metadata": {
        "colab": {
          "base_uri": "https://localhost:8080/"
        },
        "id": "zcR7IenoARC4",
        "outputId": "bb167e86-427d-41c8-a037-556c5c3261f9"
      },
      "execution_count": 15,
      "outputs": [
        {
          "output_type": "stream",
          "name": "stdout",
          "text": [
            "Without Punctuation & Numbers:\n",
            " The cats ARE playing in the Garden NLP makes machines  intelligent Price  \n"
          ]
        }
      ]
    },
    {
      "cell_type": "markdown",
      "source": [
        "## **8. Handling Emojis & Special Characters**"
      ],
      "metadata": {
        "id": "BebVyzKXATDb"
      }
    },
    {
      "cell_type": "code",
      "source": [
        "# Extract emojis\n",
        "emojis = [c for c in text if c in emoji.EMOJI_DATA]\n",
        "print(\"Extracted Emojis:\", emojis)"
      ],
      "metadata": {
        "colab": {
          "base_uri": "https://localhost:8080/"
        },
        "id": "uCG5RJo7AUh2",
        "outputId": "1a864047-397f-4ad0-e36d-99a17e5b7c2b"
      },
      "execution_count": 16,
      "outputs": [
        {
          "output_type": "stream",
          "name": "stdout",
          "text": [
            "Extracted Emojis: ['🤖']\n"
          ]
        }
      ]
    },
    {
      "cell_type": "code",
      "source": [
        "# Remove emojis from text\n",
        "no_emoji_text = emoji.replace_emoji(text, replace='')\n",
        "print(\"Text without Emojis:\\n\", no_emoji_text)"
      ],
      "metadata": {
        "colab": {
          "base_uri": "https://localhost:8080/"
        },
        "id": "vLoy5J-pAXLu",
        "outputId": "e297c3f3-bdde-4dc9-b8eb-f6465b6027e5"
      },
      "execution_count": 17,
      "outputs": [
        {
          "output_type": "stream",
          "name": "stdout",
          "text": [
            "Text without Emojis:\n",
            " The cats ARE playing in the Garden!!! NLP makes machines  intelligent. Price = $100.\n"
          ]
        }
      ]
    },
    {
      "cell_type": "markdown",
      "source": [
        "## **9. Full Preprocessing Function**"
      ],
      "metadata": {
        "id": "R6RyySdcAZG1"
      }
    },
    {
      "cell_type": "code",
      "execution_count": 18,
      "metadata": {
        "id": "j44dtXhd88q4"
      },
      "outputs": [],
      "source": [
        "def preprocess(text):\n",
        "    text = text.lower()\n",
        "    text = re.sub(r'[^a-z\\s]', '', text)  # remove punctuation/numbers\n",
        "    tokens = word_tokenize(text)\n",
        "    tokens = [w for w in tokens if w not in stop_words]\n",
        "    tokens = [lemmatizer.lemmatize(w, pos='v') for w in tokens]\n",
        "    return tokens"
      ]
    },
    {
      "cell_type": "code",
      "source": [
        "print(\"Final Clean Tokens:\\n\", preprocess(text))"
      ],
      "metadata": {
        "colab": {
          "base_uri": "https://localhost:8080/"
        },
        "id": "dDnKw_IHAbGj",
        "outputId": "a96405dc-ddaf-4b81-d4d0-87dcbb7c185e"
      },
      "execution_count": 19,
      "outputs": [
        {
          "output_type": "stream",
          "name": "stdout",
          "text": [
            "Final Clean Tokens:\n",
            " ['cat', 'play', 'garden', 'nlp', 'make', 'machine', 'intelligent', 'price']\n"
          ]
        }
      ]
    },
    {
      "cell_type": "code",
      "source": [],
      "metadata": {
        "id": "hFeVqUT_AbZS"
      },
      "execution_count": null,
      "outputs": []
    }
  ]
}