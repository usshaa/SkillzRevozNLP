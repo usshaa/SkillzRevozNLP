{
 "cells": [
  {
   "cell_type": "code",
   "execution_count": 4,
   "metadata": {},
   "outputs": [],
   "source": [
    "import requests\n",
    "from bs4 import BeautifulSoup\n",
    "import json"
   ]
  },
  {
   "cell_type": "code",
   "execution_count": 8,
   "metadata": {},
   "outputs": [],
   "source": [
    "# Function to scrape news content from a website and return as JSON\n",
    "def scrape_news(url):\n",
    "    # Send a GET request to the URL\n",
    "    response = requests.get(url)\n",
    "    # Parse the HTML content of the page\n",
    "    soup = BeautifulSoup(response.text, 'html.parser')\n",
    "    # Create a list to store the scraped news content\n",
    "    news_content = []\n",
    "    \n",
    "    # Find all headlines and summaries\n",
    "    headlines = soup.find_all('h2')\n",
    "    summaries = soup.find_all('p')\n",
    "    \n",
    "    # Iterate over the headlines and summaries\n",
    "    for headline, summary in zip(headlines, summaries):\n",
    "        news_content.append({\n",
    "            'headline': headline.text.strip(),\n",
    "            'summary': summary.text.strip() if summary else ''\n",
    "        })\n",
    "    \n",
    "    return news_content"
   ]
  },
  {
   "cell_type": "code",
   "execution_count": 6,
   "metadata": {},
   "outputs": [
    {
     "name": "stdout",
     "output_type": "stream",
     "text": [
      "{'https://www.bbc.com/news': [{'headline': 'US to halt some arms supplies if Israel invades Rafah', 'summary': 'President Biden warns he will stop supplying some weapons if Israel launches a ground operation.'}, {'headline': \"Saudi forces 'permitted to kill’ for new eco-city\", 'summary': 'An ex-intelligence officer tells the BBC he was permitted to shoot dead those resisting eviction.'}, {'headline': 'Australia backs gas beyond 2050 despite climate fears', 'summary': 'The policy comes despite global calls to drastically phase out fossil fuels to reach climate targets.'}, {'headline': 'Man confessed to surfer deaths, Mexican court told', 'summary': 'Australian brothers Jake and Callum Robinson and their US friend Jack Carter Rhoad disappeared last month.'}, {'headline': 'US and Philippines sink mock enemy ship in military drill', 'summary': 'More than 16,000 military personnel took part in the practice drills in the Philippines and South China Sea.'}, {'headline': \"Saudi forces 'permitted to kill’ for new eco-city\", 'summary': 'An ex-intelligence officer tells the BBC he was permitted to shoot dead those resisting eviction.'}, {'headline': \"India's Modi banks on $400bn cash splurge to win election\", 'summary': \"The scale of India's welfare state is staggering - and Narendra Modi is betting on its gains to win votes.\"}, {'headline': 'Chinese PR boss says sorry for glorifying overwork', 'summary': \"Baidu's Qu Jing tells workers she does not care for them because, 'I am not your mum'.\"}, {'headline': \"One year after Imran Khan's supporters stormed Pakistan - they can't move on\", 'summary': \"Many supporters of Pakistan's jailed former PM have yet to get over their physical and emotional wounds.\"}, {'headline': 'Australia backs gas beyond 2050 despite climate fears', 'summary': 'The policy comes despite global calls to drastically phase out fossil fuels to reach climate targets.'}, {'headline': 'Half of Gaza water facilities damaged or destroyed, BBC satellite data reveals', 'summary': \"The Killers' rock hit has become the biggest single never to reach number one. How did it happen?\"}, {'headline': 'Whistleblower: Boeing supplier sent faulty parts', 'summary': \"John McFall is studying whether it's possible for someone with a physical disability to go to space.\"}, {'headline': \"Ohtani's ex-interpreter to plead guilty to fraud\", 'summary': 'A BBC investigation uncovers links between opposition AfD party figures and extremist networks.'}, {'headline': 'Olympic flame welcomed to France with 1,000-boat parade', 'summary': 'Two powerful Philippine political dynasties are sparring publicly and trading shocking allegations.'}, {'headline': 'Disney and Warner to bundle streaming services', 'summary': 'Fake pictures of Katy Perry and other artists at the Met Gala went viral on social media.'}, {'headline': 'Features and analysis', 'summary': \"John McFall is studying whether it's possible for someone with a physical disability to go to space.\"}, {'headline': \"How The Killers' Mr Brightside got 'legendary status'\", 'summary': \"Police investigate India's ruling BJP over a video the opposition say is anti-Muslim.\"}, {'headline': 'The man on a mission to open up space to disability', 'summary': 'By delaying a weapons shipment, the US is finally reaching for its biggest lever of influence over Israel.'}, {'headline': 'Going to the extreme: Inside Germany’s far right', 'summary': 'A BBC investigation uncovers links between opposition AfD party figures and extremist networks.'}, {'headline': 'The political power couple who cannot afford to break up', 'summary': 'Every single day of the past 12 months has seen a new global sea temperature high for the time of year.'}, {'headline': 'BBC Verify looks at fake AI-generated Met Gala images', 'summary': \"Kim Ki Nam built the personality cult of North Korea's ruling dynasty.\"}, {'headline': 'The man on a mission to open up space to disability', 'summary': '\"The world has become a darker place for us,\" say the Australian parents of brothers Callum and Jake.'}, {'headline': \"Modi's party accused of demonising Muslims in video\", 'summary': 'Aerial footage shows devastating scenes in Brazil as landslides and massive flooding kill dozens.'}, {'headline': 'US bomb delay is biggest warning yet for Israel', 'summary': 'More than 56 million people remain under severe weather warnings in at least 18 states.'}, {'headline': 'Going to the extreme: Inside Germany’s far right', 'summary': \"Kim Ki Nam built the personality cult of North Korea's ruling dynasty.\"}, {'headline': 'Most watched', 'summary': \"The city's court has overturned a previous ruling to ban the song which was used by democracy protesters.\"}, {'headline': 'Cornwall flooding seen from the skies', 'summary': 'The Duke of Sussex will not meet his father or brother during a brief visit to London.'}, {'headline': 'BBC World Service', 'summary': '\"The world has become a darker place for us,\" say the Australian parents of brothers Callum and Jake.'}, {'headline': 'One-minute World News', 'summary': 'Football latest: Reaction to Real Madrid 2-1 Bayern Munich as Joselu double gives Real dramatic late comeback win in Champions League semi-final second leg.'}, {'headline': \"'Worst is over' for Cornish floods\", 'summary': \"It is sport's most decisive and divisive moment - but what is it like to deliver a knockout punch, and to take one?\"}, {'headline': 'Also in news', 'summary': 'Rory McIlroy calls for the split world of professional golf to find \"a compromise\" that brings a sense of unity.'}, {'headline': 'Oceans suffer from record-breaking year of heat', 'summary': \"Naomi Osaka beats France's Clara Burel in straight sets in the Italian Open first round on her first appearance at the tournament since 2021.\"}, {'headline': \"Kim family's master propagandist dies at 94\", 'summary': 'The former Spanish FA chief will be tried over a kiss he gave player Jenni Hermoso.'}, {'headline': 'Parents pay tribute to surfers killed in Mexico', 'summary': \"It is sport's most decisive and divisive moment - but what is it like to deliver a knockout punch, and to take one?\"}, {'headline': 'Images show devastating impact of Brazil floods', 'summary': \"When Harry Kane was on the pitch, Bayern Munich were heading to the Champions League final at Wembley. When he wasn't there, it all went wrong.\"}, {'headline': 'Dozens rescued as tornado collapses FedEx depot', 'summary': 'Bayern Munich manager Thomas Tuchel says the decision from officials to stop play before his side scored an equaliser against Real Madrid \"feels like a betrayal\".'}, {'headline': \"Kim family's master propagandist dies at 94\", 'summary': 'Rory McIlroy calls for the split world of professional golf to find \"a compromise\" that brings a sense of unity.'}, {'headline': 'Hong Kong bans protest anthem after court case win', 'summary': 'Copyright 2024 BBC. All rights reserved.\\xa0\\xa0The BBC is not responsible for the content of external sites.\\xa0Read about our approach to external linking.'}, {'headline': 'Harry and King at London events but not meeting', 'summary': ''}], 'https://edition.cnn.com/': [{'headline': \"Biden: US won't send weapons to Israel if it launches major Rafah invasion\", 'summary': 'Show\\xa0all'}, {'headline': 'More top stories', 'summary': 'Show\\xa0all'}, {'headline': 'Featured', 'summary': 'Show\\xa0all'}, {'headline': 'Featured Sections', 'summary': '© 2024 Cable News Network. A Warner Bros. Discovery Company. All Rights Reserved.  CNN Sans ™ & © 2016 Cable News Network.'}], 'https://www.nytimes.com/': [{'headline': 'In Case You Missed It', 'summary': 'Make sense of the day’s news and ideas.'}, {'headline': 'More News', 'summary': 'Analysis that explains politics, policy and everyday life.'}, {'headline': 'The AthleticSports coverage', 'summary': 'See all newsletters'}, {'headline': 'Well', 'summary': 'The biggest stories of our time, in 20 minutes a day.'}, {'headline': 'Culture and Lifestyle', 'summary': 'On the campaign trail with Astead Herndon.'}, {'headline': 'GamesDaily puzzles', 'summary': 'See all podcasts'}, {'headline': 'Site Index', 'summary': 'Get what you need to know to start your day.'}, {'headline': 'Site Information Navigation', 'summary': 'Original analysis on the week’s biggest global stories.'}]}\n"
     ]
    }
   ],
   "source": [
    "# URLs of the websites to scrape news content\n",
    "urls = [\n",
    "    'https://www.bbc.com/news',  # BBC News\n",
    "    'https://edition.cnn.com/',   # CNN\n",
    "    'https://www.nytimes.com/',   # The New York Times\n",
    "]\n",
    "\n",
    "# Dictionary to store scraped news content from each website\n",
    "scraped_news = {}\n",
    "\n",
    "# Scrape news content from each website and store in dictionary\n",
    "for url in urls:\n",
    "    scraped_news[url] = scrape_news(url)\n",
    "print(scraped_news)"
   ]
  },
  {
   "cell_type": "code",
   "execution_count": 7,
   "metadata": {},
   "outputs": [],
   "source": [
    "# Filter out empty lists\n",
    "scraped_news = {k: v for k, v in scraped_news.items() if v}"
   ]
  },
  {
   "cell_type": "code",
   "execution_count": 9,
   "metadata": {},
   "outputs": [],
   "source": [
    "# Save scraped news content as JSON\n",
    "with open('hcl.json', 'w') as json_file:\n",
    "    json.dump(scraped_news, json_file, indent=4)"
   ]
  }
 ],
 "metadata": {
  "kernelspec": {
   "display_name": "Python 3",
   "language": "python",
   "name": "python3"
  },
  "language_info": {
   "codemirror_mode": {
    "name": "ipython",
    "version": 3
   },
   "file_extension": ".py",
   "mimetype": "text/x-python",
   "name": "python",
   "nbconvert_exporter": "python",
   "pygments_lexer": "ipython3",
   "version": "3.7.4"
  }
 },
 "nbformat": 4,
 "nbformat_minor": 4
}
