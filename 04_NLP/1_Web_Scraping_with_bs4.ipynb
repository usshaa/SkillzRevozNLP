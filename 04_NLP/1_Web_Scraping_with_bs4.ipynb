{
  "metadata": {
    "kernelspec": {
      "name": "python3",
      "display_name": "Python 3"
    },
    "language_info": {
      "name": "python"
    },
    "colab": {
      "provenance": []
    }
  },
  "nbformat_minor": 0,
  "nbformat": 4,
  "cells": [
    {
      "cell_type": "markdown",
      "source": [
        "### 1. Markup Languages: The Structure of HTML Code\n",
        "\n",
        "**Markdown:**\n",
        "- HTML structure and its importance in web scraping.\n",
        "- Introduce basic HTML tags, elements, and attributes (e.g., `<div>`, `<p>`, `class`, and `id`)."
      ],
      "metadata": {
        "id": "CrCip3_klgrq"
      }
    },
    {
      "cell_type": "markdown",
      "source": [
        "**Code:**\n",
        "```html\n",
        "# HTML Example for Demonstration\n",
        "%%html\n",
        "<!DOCTYPE html>\n",
        "<html>\n",
        "<head>\n",
        "  <title>Sample Webpage</title>\n",
        "</head>\n",
        "<body>\n",
        "  <h1>Welcome to the Sample Page</h1>\n",
        "  <p>This is a paragraph with some <b>bold text</b>.</p>\n",
        "  <div class=\"content\" id=\"main\">\n",
        "    <p>Here is some content inside a div.</p>\n",
        "  </div>\n",
        "</body>\n",
        "</html>\n",
        "```"
      ],
      "metadata": {
        "id": "SNjtZ2nOlgrv"
      }
    },
    {
      "cell_type": "markdown",
      "source": [
        "**Activity:**  \n",
        "- Identify HTML tags, attributes, and text content."
      ],
      "metadata": {
        "id": "NHKewn8olgrw"
      }
    },
    {
      "cell_type": "markdown",
      "source": [
        "### 2. Understanding HTML with BeautifulSoup\n",
        "\n",
        "**Markdown:**\n",
        "- BeautifulSoup library and how it’s used to parse HTML.\n",
        "- How to install BeautifulSoup with `pip install beautifulsoup4`.\n",
        "\n",
        "**Code:**\n",
        "```python"
      ],
      "metadata": {
        "id": "yxg_YxGRlgrx"
      }
    },
    {
      "cell_type": "code",
      "source": [
        "# Importing BeautifulSoup and loading a sample HTML\n",
        "from bs4 import BeautifulSoup\n",
        "\n",
        "html_doc = \"\"\"\n",
        "<html><head><title>The Dormouse's story</title></head>\n",
        "<body>\n",
        "<p class=\"title\"><b>The Dormouse's story</b></p>\n",
        "<p class=\"story\">Once upon a time there were three little sisters; their names were\n",
        "<a href=\"http://example.com/elsie\" class=\"sister\" id=\"link1\">Elsie</a>,\n",
        "<a href=\"http://example.com/lacie\" class=\"sister\" id=\"link2\">Lacie</a> and\n",
        "<a href=\"http://example.com/tillie\" class=\"sister\" id=\"link3\">Tillie</a>;\n",
        "and they lived at the bottom of a well.</p>\n",
        "</body>\n",
        "</html>\n",
        "\"\"\"\n",
        "\n",
        "soup = BeautifulSoup(html_doc, 'html.parser')\n",
        "print(soup.prettify())"
      ],
      "metadata": {
        "trusted": true,
        "colab": {
          "base_uri": "https://localhost:8080/"
        },
        "id": "J2yVBnBslgrz",
        "outputId": "1c618dbe-349c-4465-cecb-53d75d652439"
      },
      "outputs": [
        {
          "output_type": "stream",
          "name": "stdout",
          "text": [
            "<html>\n",
            " <head>\n",
            "  <title>\n",
            "   The Dormouse's story\n",
            "  </title>\n",
            " </head>\n",
            " <body>\n",
            "  <p class=\"title\">\n",
            "   <b>\n",
            "    The Dormouse's story\n",
            "   </b>\n",
            "  </p>\n",
            "  <p class=\"story\">\n",
            "   Once upon a time there were three little sisters; their names were\n",
            "   <a class=\"sister\" href=\"http://example.com/elsie\" id=\"link1\">\n",
            "    Elsie\n",
            "   </a>\n",
            "   ,\n",
            "   <a class=\"sister\" href=\"http://example.com/lacie\" id=\"link2\">\n",
            "    Lacie\n",
            "   </a>\n",
            "   and\n",
            "   <a class=\"sister\" href=\"http://example.com/tillie\" id=\"link3\">\n",
            "    Tillie\n",
            "   </a>\n",
            "   ;\n",
            "and they lived at the bottom of a well.\n",
            "  </p>\n",
            " </body>\n",
            "</html>\n",
            "\n"
          ]
        }
      ],
      "execution_count": null
    },
    {
      "cell_type": "markdown",
      "source": [
        "**Activity:**\n",
        "- Print specific elements (e.g., the title, first link, all paragraphs)."
      ],
      "metadata": {
        "id": "KEdjSMwhlgr3"
      }
    },
    {
      "cell_type": "code",
      "source": [
        "from bs4 import BeautifulSoup\n",
        "\n",
        "# Sample HTML Document\n",
        "html_doc = \"\"\"\n",
        "<html><head><title>The Dormouse's story</title></head>\n",
        "<body>\n",
        "<p class=\"title\"><b>The Dormouse's story</b></p>\n",
        "<p class=\"story\">Once upon a time there were three little sisters; their names were\n",
        "<a href=\"http://example.com/elsie\" class=\"sister\" id=\"link1\">Elsie</a>,\n",
        "<a href=\"http://example.com/lacie\" class=\"sister\" id=\"link2\">Lacie</a> and\n",
        "<a href=\"http://example.com/tillie\" class=\"sister\" id=\"link3\">Tillie</a>;\n",
        "and they lived at the bottom of a well.</p>\n",
        "</body>\n",
        "</html>\n",
        "\"\"\"\n",
        "\n",
        "# Parse the HTML document\n",
        "soup = BeautifulSoup(html_doc, 'html.parser')\n",
        "\n",
        "# Print the parsed HTML in a readable format\n",
        "print(\"Prettified HTML:\")\n",
        "print(soup.prettify())\n",
        "\n",
        "# Extract and print the title\n",
        "title = soup.title\n",
        "print(\"\\nTitle of the page:\")\n",
        "print(title.string)\n",
        "\n",
        "# Extract and print the first link\n",
        "first_link = soup.find('a')  # Find the first <a> tag\n",
        "print(\"\\nFirst link:\")\n",
        "print(f\"Link text: {first_link.string}\")\n",
        "print(f\"Link URL: {first_link['href']}\")\n",
        "\n",
        "# Extract and print all paragraphs\n",
        "paragraphs = soup.find_all('p')\n",
        "print(\"\\nAll paragraphs:\")\n",
        "for i, paragraph in enumerate(paragraphs, 1):\n",
        "    print(f\"Paragraph {i}: {paragraph.get_text()}\")\n"
      ],
      "metadata": {
        "colab": {
          "base_uri": "https://localhost:8080/"
        },
        "id": "GrIICiZmxc0E",
        "outputId": "990cff53-2da1-4d13-a3b0-ac575d0e41d2"
      },
      "execution_count": null,
      "outputs": [
        {
          "output_type": "stream",
          "name": "stdout",
          "text": [
            "Prettified HTML:\n",
            "<html>\n",
            " <head>\n",
            "  <title>\n",
            "   The Dormouse's story\n",
            "  </title>\n",
            " </head>\n",
            " <body>\n",
            "  <p class=\"title\">\n",
            "   <b>\n",
            "    The Dormouse's story\n",
            "   </b>\n",
            "  </p>\n",
            "  <p class=\"story\">\n",
            "   Once upon a time there were three little sisters; their names were\n",
            "   <a class=\"sister\" href=\"http://example.com/elsie\" id=\"link1\">\n",
            "    Elsie\n",
            "   </a>\n",
            "   ,\n",
            "   <a class=\"sister\" href=\"http://example.com/lacie\" id=\"link2\">\n",
            "    Lacie\n",
            "   </a>\n",
            "   and\n",
            "   <a class=\"sister\" href=\"http://example.com/tillie\" id=\"link3\">\n",
            "    Tillie\n",
            "   </a>\n",
            "   ;\n",
            "and they lived at the bottom of a well.\n",
            "  </p>\n",
            " </body>\n",
            "</html>\n",
            "\n",
            "\n",
            "Title of the page:\n",
            "The Dormouse's story\n",
            "\n",
            "First link:\n",
            "Link text: Elsie\n",
            "Link URL: http://example.com/elsie\n",
            "\n",
            "All paragraphs:\n",
            "Paragraph 1: The Dormouse's story\n",
            "Paragraph 2: Once upon a time there were three little sisters; their names were\n",
            "Elsie,\n",
            "Lacie and\n",
            "Tillie;\n",
            "and they lived at the bottom of a well.\n"
          ]
        }
      ]
    },
    {
      "cell_type": "markdown",
      "source": [
        "### 3. More Complex HTML Parsing\n",
        "\n",
        "**Markdown:**\n",
        "- Handling nested elements and complex HTML structures.\n",
        "- Methods like `find()`, `find_all()`, `select()`, and CSS selectors.\n",
        "\n",
        "**Code:**\n",
        "```python"
      ],
      "metadata": {
        "id": "KgB3TnWVlgr4"
      }
    },
    {
      "cell_type": "code",
      "source": [
        "# Finding specific elements\n",
        "print(\"Title tag:\", soup.title)\n",
        "print(\"First paragraph:\", soup.find('p'))\n",
        "print(\"All links:\", soup.find_all('a'))\n",
        "\n",
        "# Using CSS Selectors\n",
        "print(\"Using CSS Selectors:\", soup.select('p.story a'))"
      ],
      "metadata": {
        "trusted": true,
        "colab": {
          "base_uri": "https://localhost:8080/"
        },
        "id": "YQlUqvSllgr5",
        "outputId": "e8f68469-fd36-45bc-d27d-d12ab28313b1"
      },
      "outputs": [
        {
          "output_type": "stream",
          "name": "stdout",
          "text": [
            "Title tag: <title>The Dormouse's story</title>\n",
            "First paragraph: <p class=\"title\"><b>The Dormouse's story</b></p>\n",
            "All links: [<a class=\"sister\" href=\"http://example.com/elsie\" id=\"link1\">Elsie</a>, <a class=\"sister\" href=\"http://example.com/lacie\" id=\"link2\">Lacie</a>, <a class=\"sister\" href=\"http://example.com/tillie\" id=\"link3\">Tillie</a>]\n",
            "Using CSS Selectors: [<a class=\"sister\" href=\"http://example.com/elsie\" id=\"link1\">Elsie</a>, <a class=\"sister\" href=\"http://example.com/lacie\" id=\"link2\">Lacie</a>, <a class=\"sister\" href=\"http://example.com/tillie\" id=\"link3\">Tillie</a>]\n"
          ]
        }
      ],
      "execution_count": null
    },
    {
      "cell_type": "markdown",
      "source": [
        "**Activity:**\n",
        "- Task students to retrieve all `<a>` tags and print their `href` attributes."
      ],
      "metadata": {
        "id": "y9vdmAFVlgr6"
      }
    },
    {
      "cell_type": "code",
      "source": [
        "from bs4 import BeautifulSoup\n",
        "\n",
        "# Sample HTML Document\n",
        "html_doc = \"\"\"\n",
        "<html><head><title>The Dormouse's story</title></head>\n",
        "<body>\n",
        "<p class=\"title\"><b>The Dormouse's story</b></p>\n",
        "<p class=\"story\">Once upon a time there were three little sisters; their names were\n",
        "<a href=\"http://example.com/elsie\" class=\"sister\" id=\"link1\">Elsie</a>,\n",
        "<a href=\"http://example.com/lacie\" class=\"sister\" id=\"link2\">Lacie</a> and\n",
        "<a href=\"http://example.com/tillie\" class=\"sister\" id=\"link3\">Tillie</a>;\n",
        "and they lived at the bottom of a well.</p>\n",
        "</body>\n",
        "</html>\n",
        "\"\"\"\n",
        "\n",
        "# Parse the HTML document\n",
        "soup = BeautifulSoup(html_doc, 'html.parser')\n",
        "\n",
        "# Find all <a> tags\n",
        "all_links = soup.find_all('a')\n",
        "\n",
        "# Print the href attribute of each <a> tag\n",
        "print(\"All href attributes of <a> tags:\")\n",
        "for link in all_links:\n",
        "    print(link['href'])\n"
      ],
      "metadata": {
        "colab": {
          "base_uri": "https://localhost:8080/"
        },
        "id": "QwoGCnVbx8UY",
        "outputId": "70b1f7ef-aa6c-439b-b40e-05981ccc4423"
      },
      "execution_count": null,
      "outputs": [
        {
          "output_type": "stream",
          "name": "stdout",
          "text": [
            "All href attributes of <a> tags:\n",
            "http://example.com/elsie\n",
            "http://example.com/lacie\n",
            "http://example.com/tillie\n"
          ]
        }
      ]
    },
    {
      "cell_type": "markdown",
      "source": [
        "### 4. Structuring Parsing Program Better\n",
        "\n",
        "**Markdown:**\n",
        "- How to create functions to handle repetitive tasks.\n",
        "- Importance of modular code.\n",
        "\n",
        "**Code:**\n",
        "```python"
      ],
      "metadata": {
        "id": "mGDgCGYrxwNx"
      }
    },
    {
      "cell_type": "code",
      "source": [
        "# Function to retrieve all links from an HTML document\n",
        "def get_all_links(soup):\n",
        "    links = []\n",
        "    for link in soup.find_all('a'):\n",
        "        links.append(link.get('href'))\n",
        "    return links\n",
        "\n",
        "# Testing the function\n",
        "print(\"Extracted Links:\", get_all_links(soup))"
      ],
      "metadata": {
        "trusted": true,
        "colab": {
          "base_uri": "https://localhost:8080/"
        },
        "id": "tdzm3V6Blgr7",
        "outputId": "0b93d481-997a-4696-c3c7-9dddc510c2b4"
      },
      "outputs": [
        {
          "output_type": "stream",
          "name": "stdout",
          "text": [
            "Extracted Links: ['http://example.com/elsie', 'http://example.com/lacie', 'http://example.com/tillie']\n"
          ]
        }
      ],
      "execution_count": null
    },
    {
      "cell_type": "markdown",
      "source": [
        "### 5. Splitting HTML Locators Out of the Python Class\n",
        "\n",
        "**Markdown:**\n",
        "- How to create locator constants for element IDs, classes, etc., to improve code readability.\n",
        "\n",
        "**Code:**\n",
        "```python"
      ],
      "metadata": {
        "id": "zaCsL3NPlgr8"
      }
    },
    {
      "cell_type": "code",
      "source": [
        "# Locator constants\n",
        "LINK_LOCATOR = 'a.sister'  # CSS selector for links with class 'sister'\n",
        "\n",
        "# Function to retrieve elements using locators\n",
        "def get_elements_by_locator(soup, locator):\n",
        "    return soup.select(locator)\n",
        "\n",
        "print(\"Elements using Locator:\", get_elements_by_locator(soup, LINK_LOCATOR))"
      ],
      "metadata": {
        "trusted": true,
        "colab": {
          "base_uri": "https://localhost:8080/"
        },
        "id": "3ZJLQPMXlgr9",
        "outputId": "4b11f4e5-daa0-4fe7-9689-965be72285a9"
      },
      "outputs": [
        {
          "output_type": "stream",
          "name": "stdout",
          "text": [
            "Elements using Locator: [<a class=\"sister\" href=\"http://example.com/elsie\" id=\"link1\">Elsie</a>, <a class=\"sister\" href=\"http://example.com/lacie\" id=\"link2\">Lacie</a>, <a class=\"sister\" href=\"http://example.com/tillie\" id=\"link3\">Tillie</a>]\n"
          ]
        }
      ],
      "execution_count": null
    },
    {
      "cell_type": "markdown",
      "source": [
        "### 6. Understanding HTML with the Browser\n",
        "\n",
        "**Markdown:**\n",
        "- How to use browser developer tools (Inspect Element) to identify elements and their locators.\n",
        "- Example URL for a website to inspect."
      ],
      "metadata": {
        "id": "2dX7yWN2lgr-"
      }
    },
    {
      "cell_type": "markdown",
      "source": [
        "### 7. Scraping the First Website with Python\n",
        "\n",
        "**Markdown:**\n",
        "- Introduce `requests` library for making HTTP requests.\n",
        "- Response objects and handling HTTP status codes.\n",
        "\n",
        "**Code:**\n",
        "```python\n",
        "# Installing requests library if not installed"
      ],
      "metadata": {
        "id": "c9gJ0hPNlgr-"
      }
    },
    {
      "cell_type": "code",
      "source": [
        "!pip install requests"
      ],
      "metadata": {
        "trusted": true,
        "colab": {
          "base_uri": "https://localhost:8080/"
        },
        "id": "rWNQtqfulgr_",
        "outputId": "8897ab15-f043-418b-b5c9-4653bbab234f"
      },
      "outputs": [
        {
          "output_type": "stream",
          "name": "stdout",
          "text": [
            "Requirement already satisfied: requests in /usr/local/lib/python3.11/dist-packages (2.32.3)\n",
            "Requirement already satisfied: charset-normalizer<4,>=2 in /usr/local/lib/python3.11/dist-packages (from requests) (3.4.1)\n",
            "Requirement already satisfied: idna<4,>=2.5 in /usr/local/lib/python3.11/dist-packages (from requests) (3.10)\n",
            "Requirement already satisfied: urllib3<3,>=1.21.1 in /usr/local/lib/python3.11/dist-packages (from requests) (2.3.0)\n",
            "Requirement already satisfied: certifi>=2017.4.17 in /usr/local/lib/python3.11/dist-packages (from requests) (2025.1.31)\n"
          ]
        }
      ],
      "execution_count": null
    },
    {
      "cell_type": "code",
      "source": [
        "# Simple web scraping example\n",
        "import requests\n",
        "\n",
        "url = \"http://quotes.toscrape.com/\"\n",
        "response = requests.get(url)\n",
        "\n",
        "if response.status_code == 200:\n",
        "    page_content = response.text\n",
        "    soup = BeautifulSoup(page_content, 'html.parser')\n",
        "    print(\"Page Title:\", soup.title.string)\n",
        "else:\n",
        "    print(\"Failed to retrieve page:\", response.status_code)"
      ],
      "metadata": {
        "trusted": true,
        "colab": {
          "base_uri": "https://localhost:8080/"
        },
        "id": "Q7TZVgsGlgsA",
        "outputId": "71e868dd-9c10-4a38-83eb-45429c69d66d"
      },
      "outputs": [
        {
          "output_type": "stream",
          "name": "stdout",
          "text": [
            "Page Title: Quotes to Scrape\n"
          ]
        }
      ],
      "execution_count": null
    },
    {
      "cell_type": "markdown",
      "source": [
        "**Activity:**\n",
        "- Retrieve and print the main title and author names from the page.\n"
      ],
      "metadata": {
        "id": "NF5Nv0BXlgsA"
      }
    },
    {
      "cell_type": "code",
      "source": [
        "import requests\n",
        "from bs4 import BeautifulSoup\n",
        "\n",
        "# URL of the page to scrape\n",
        "url = \"http://quotes.toscrape.com/\"\n",
        "response = requests.get(url)\n",
        "\n",
        "# Check if the request was successful\n",
        "if response.status_code == 200:\n",
        "    page_content = response.text\n",
        "    soup = BeautifulSoup(page_content, 'html.parser')\n",
        "\n",
        "    # Print the page title\n",
        "    print(\"Page Title:\", soup.title.string)\n",
        "\n",
        "    # Find and print all author names\n",
        "    authors = soup.find_all('small', class_='author')\n",
        "    print(\"Authors:\")\n",
        "    for author in authors:\n",
        "        print(author.text)\n",
        "\n",
        "else:\n",
        "    print(\"Failed to retrieve page:\", response.status_code)\n"
      ],
      "metadata": {
        "colab": {
          "base_uri": "https://localhost:8080/"
        },
        "id": "pfIq_5HPyWgq",
        "outputId": "f1c6f54c-1573-4963-b4c8-3ac3dbeb6029"
      },
      "execution_count": null,
      "outputs": [
        {
          "output_type": "stream",
          "name": "stdout",
          "text": [
            "Page Title: Quotes to Scrape\n",
            "Authors:\n",
            "Albert Einstein\n",
            "J.K. Rowling\n",
            "Albert Einstein\n",
            "Jane Austen\n",
            "Marilyn Monroe\n",
            "Albert Einstein\n",
            "André Gide\n",
            "Thomas A. Edison\n",
            "Eleanor Roosevelt\n",
            "Steve Martin\n"
          ]
        }
      ]
    },
    {
      "cell_type": "markdown",
      "source": [
        "### 8. Milestone Project 3: A Quote Scraper\n",
        "\n",
        "**Markdown:**\n",
        "- Project’s goal: scraping quotes and authors from a website.\n",
        "\n",
        "**Code:**\n",
        "```python"
      ],
      "metadata": {
        "id": "o4xEqnR2yRQI"
      }
    },
    {
      "cell_type": "code",
      "source": [
        "# Initial setup for Quote Scraper\n",
        "def get_quotes_from_page(soup):\n",
        "    quotes = []\n",
        "    for quote_block in soup.find_all('div', class_='quote'):\n",
        "        text = quote_block.find('span', class_='text').get_text()\n",
        "        author = quote_block.find('small', class_='author').get_text()\n",
        "        quotes.append({'text': text, 'author': author})\n",
        "    return quotes\n",
        "\n",
        "# Testing the function with the first page\n",
        "quotes = get_quotes_from_page(soup)\n",
        "print(\"Quotes:\", quotes[:5])  # Display first 5 quotes"
      ],
      "metadata": {
        "trusted": true,
        "colab": {
          "base_uri": "https://localhost:8080/"
        },
        "id": "I96xtLtilgsB",
        "outputId": "6ff14d32-f3b8-4d97-e738-0f0bc4f6174a"
      },
      "outputs": [
        {
          "output_type": "stream",
          "name": "stdout",
          "text": [
            "Quotes: [{'text': '“The world as we have created it is a process of our thinking. It cannot be changed without changing our thinking.”', 'author': 'Albert Einstein'}, {'text': '“It is our choices, Harry, that show what we truly are, far more than our abilities.”', 'author': 'J.K. Rowling'}, {'text': '“There are only two ways to live your life. One is as though nothing is a miracle. The other is as though everything is a miracle.”', 'author': 'Albert Einstein'}, {'text': '“The person, be it gentleman or lady, who has not pleasure in a good novel, must be intolerably stupid.”', 'author': 'Jane Austen'}, {'text': \"“Imperfection is beauty, madness is genius and it's better to be absolutely ridiculous than absolutely boring.”\", 'author': 'Marilyn Monroe'}]\n"
          ]
        }
      ],
      "execution_count": null
    },
    {
      "cell_type": "markdown",
      "source": [
        "### 9. Quotes Project 2: Structuring a Scraping App in Python\n",
        "\n",
        "**Markdown:**\n",
        "- Demonstrate organizing the scraper into functions.\n",
        "\n",
        "**Code:**\n",
        "```python"
      ],
      "metadata": {
        "id": "jAbE5eHllgsC"
      }
    },
    {
      "cell_type": "code",
      "source": [
        "# Full Quote Scraper function\n",
        "def scrape_quotes(url):\n",
        "    response = requests.get(url)\n",
        "    soup = BeautifulSoup(response.text, 'html.parser')\n",
        "    return get_quotes_from_page(soup)\n",
        "\n",
        "# Scraping quotes from a website\n",
        "url = \"http://quotes.toscrape.com/\"\n",
        "print(\"Quotes from page:\", scrape_quotes(url))"
      ],
      "metadata": {
        "trusted": true,
        "colab": {
          "base_uri": "https://localhost:8080/"
        },
        "id": "9yxqhNFslgsC",
        "outputId": "164a0429-9ea4-43c0-a2d0-19072e3581eb"
      },
      "outputs": [
        {
          "output_type": "stream",
          "name": "stdout",
          "text": [
            "Quotes from page: [{'text': '“The world as we have created it is a process of our thinking. It cannot be changed without changing our thinking.”', 'author': 'Albert Einstein'}, {'text': '“It is our choices, Harry, that show what we truly are, far more than our abilities.”', 'author': 'J.K. Rowling'}, {'text': '“There are only two ways to live your life. One is as though nothing is a miracle. The other is as though everything is a miracle.”', 'author': 'Albert Einstein'}, {'text': '“The person, be it gentleman or lady, who has not pleasure in a good novel, must be intolerably stupid.”', 'author': 'Jane Austen'}, {'text': \"“Imperfection is beauty, madness is genius and it's better to be absolutely ridiculous than absolutely boring.”\", 'author': 'Marilyn Monroe'}, {'text': '“Try not to become a man of success. Rather become a man of value.”', 'author': 'Albert Einstein'}, {'text': '“It is better to be hated for what you are than to be loved for what you are not.”', 'author': 'André Gide'}, {'text': \"“I have not failed. I've just found 10,000 ways that won't work.”\", 'author': 'Thomas A. Edison'}, {'text': \"“A woman is like a tea bag; you never know how strong it is until it's in hot water.”\", 'author': 'Eleanor Roosevelt'}, {'text': '“A day without sunshine is like, you know, night.”', 'author': 'Steve Martin'}]\n"
          ]
        }
      ],
      "execution_count": null
    },
    {
      "cell_type": "markdown",
      "source": [
        "### 10-13. Final Project Steps: Parsing, Getting Locators, and Recap\n",
        "\n",
        "**Markdown:**\n",
        "- Detailed steps to complete the scraper by adding locators, handling pagination, and crafting a parser class for better data handling.\n",
        "\n",
        "**Code:**\n",
        "```python"
      ],
      "metadata": {
        "id": "lQfiKAbVlgsD"
      }
    },
    {
      "cell_type": "code",
      "source": [
        "# Parser class for the Quote Scraper\n",
        "class QuoteParser:\n",
        "    def __init__(self, html):\n",
        "        self.soup = BeautifulSoup(html, 'html.parser')\n",
        "\n",
        "    def get_quotes(self):\n",
        "        return get_quotes_from_page(self.soup)"
      ],
      "metadata": {
        "trusted": true,
        "id": "-tgJ6-QelgsE"
      },
      "outputs": [],
      "execution_count": null
    },
    {
      "cell_type": "code",
      "source": [
        "# Scraping multiple pages\n",
        "def scrape_multiple_pages(base_url, pages=5):\n",
        "    all_quotes = []\n",
        "    for page in range(1, pages+1):\n",
        "        url = f\"{base_url}page/{page}/\"\n",
        "        all_quotes.extend(scrape_quotes(url))\n",
        "    return all_quotes"
      ],
      "metadata": {
        "trusted": true,
        "id": "fc_Cuy88lgsE"
      },
      "outputs": [],
      "execution_count": null
    },
    {
      "cell_type": "code",
      "source": [
        "# Running the scraper\n",
        "base_url = \"http://quotes.toscrape.com/\"\n",
        "quotes = scrape_multiple_pages(base_url, 2)\n",
        "print(\"All Quotes from multiple pages:\", quotes)"
      ],
      "metadata": {
        "trusted": true,
        "colab": {
          "base_uri": "https://localhost:8080/"
        },
        "id": "LdtqOHlFlgsF",
        "outputId": "b7760c3b-edda-4e30-9ec0-206cfc371e54"
      },
      "outputs": [
        {
          "output_type": "stream",
          "name": "stdout",
          "text": [
            "All Quotes from multiple pages: [{'text': '“The world as we have created it is a process of our thinking. It cannot be changed without changing our thinking.”', 'author': 'Albert Einstein'}, {'text': '“It is our choices, Harry, that show what we truly are, far more than our abilities.”', 'author': 'J.K. Rowling'}, {'text': '“There are only two ways to live your life. One is as though nothing is a miracle. The other is as though everything is a miracle.”', 'author': 'Albert Einstein'}, {'text': '“The person, be it gentleman or lady, who has not pleasure in a good novel, must be intolerably stupid.”', 'author': 'Jane Austen'}, {'text': \"“Imperfection is beauty, madness is genius and it's better to be absolutely ridiculous than absolutely boring.”\", 'author': 'Marilyn Monroe'}, {'text': '“Try not to become a man of success. Rather become a man of value.”', 'author': 'Albert Einstein'}, {'text': '“It is better to be hated for what you are than to be loved for what you are not.”', 'author': 'André Gide'}, {'text': \"“I have not failed. I've just found 10,000 ways that won't work.”\", 'author': 'Thomas A. Edison'}, {'text': \"“A woman is like a tea bag; you never know how strong it is until it's in hot water.”\", 'author': 'Eleanor Roosevelt'}, {'text': '“A day without sunshine is like, you know, night.”', 'author': 'Steve Martin'}, {'text': \"“This life is what you make it. No matter what, you're going to mess up sometimes, it's a universal truth. But the good part is you get to decide how you're going to mess it up. Girls will be your friends - they'll act like it anyway. But just remember, some come, some go. The ones that stay with you through everything - they're your true best friends. Don't let go of them. Also remember, sisters make the best friends in the world. As for lovers, well, they'll come and go too. And baby, I hate to say it, most of them - actually pretty much all of them are going to break your heart, but you can't give up because if you give up, you'll never find your soulmate. You'll never find that half who makes you whole and that goes for everything. Just because you fail once, doesn't mean you're gonna fail at everything. Keep trying, hold on, and always, always, always believe in yourself, because if you don't, then who will, sweetie? So keep your head high, keep your chin up, and most importantly, keep smiling, because life's a beautiful thing and there's so much to smile about.”\", 'author': 'Marilyn Monroe'}, {'text': '“It takes a great deal of bravery to stand up to our enemies, but just as much to stand up to our friends.”', 'author': 'J.K. Rowling'}, {'text': \"“If you can't explain it to a six year old, you don't understand it yourself.”\", 'author': 'Albert Einstein'}, {'text': \"“You may not be her first, her last, or her only. She loved before she may love again. But if she loves you now, what else matters? She's not perfect—you aren't either, and the two of you may never be perfect together but if she can make you laugh, cause you to think twice, and admit to being human and making mistakes, hold onto her and give her the most you can. She may not be thinking about you every second of the day, but she will give you a part of her that she knows you can break—her heart. So don't hurt her, don't change her, don't analyze and don't expect more than she can give. Smile when she makes you happy, let her know when she makes you mad, and miss her when she's not there.”\", 'author': 'Bob Marley'}, {'text': '“I like nonsense, it wakes up the brain cells. Fantasy is a necessary ingredient in living.”', 'author': 'Dr. Seuss'}, {'text': '“I may not have gone where I intended to go, but I think I have ended up where I needed to be.”', 'author': 'Douglas Adams'}, {'text': \"“The opposite of love is not hate, it's indifference. The opposite of art is not ugliness, it's indifference. The opposite of faith is not heresy, it's indifference. And the opposite of life is not death, it's indifference.”\", 'author': 'Elie Wiesel'}, {'text': '“It is not a lack of love, but a lack of friendship that makes unhappy marriages.”', 'author': 'Friedrich Nietzsche'}, {'text': '“Good friends, good books, and a sleepy conscience: this is the ideal life.”', 'author': 'Mark Twain'}, {'text': '“Life is what happens to us while we are making other plans.”', 'author': 'Allen Saunders'}]\n"
          ]
        }
      ],
      "execution_count": null
    },
    {
      "cell_type": "markdown",
      "source": [
        "#!Great Job"
      ],
      "metadata": {
        "id": "_aujGtC7nxjc"
      }
    }
  ]
}