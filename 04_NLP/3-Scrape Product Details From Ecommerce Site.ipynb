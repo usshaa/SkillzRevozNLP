{
 "cells": [
  {
   "cell_type": "code",
   "execution_count": 5,
   "metadata": {},
   "outputs": [],
   "source": [
    "import requests\n",
    "from bs4 import BeautifulSoup\n",
    "import csv\n",
    "\n",
    "# Function to scrape product listings from a website\n",
    "def scrape_products(url):\n",
    "    # Send a GET request to the URL\n",
    "    response = requests.get(url)\n",
    "    # Parse the HTML content of the page\n",
    "    soup = BeautifulSoup(response.text, 'html.parser')\n",
    "    # Find the elements containing the product information\n",
    "    products = soup.find_all('div', class_='card')\n",
    "    # Create a list to store the scraped product data\n",
    "    product_data = []\n",
    "    # Iterate through product elements and extract data\n",
    "    for product in products:\n",
    "        name = product.find('a', class_='title').text.strip()\n",
    "        price = product.find('h4', class_='float-end').text.strip()\n",
    "        description = product.find('p', class_='description').text.strip()\n",
    "        product_data.append([name, price, description])\n",
    "    return product_data\n",
    "\n",
    "# URL of the website to scrape\n",
    "url = 'https://webscraper.io/test-sites/e-commerce/allinone'\n",
    "\n",
    "# Scrape product data from the website\n",
    "products_data = scrape_products(url)\n",
    "\n",
    "# Save scraped product data as CSV\n",
    "with open('products.csv', 'w', newline='', encoding='utf-8') as csvfile:\n",
    "    # Create CSV writer\n",
    "    writer = csv.writer(csvfile)\n",
    "    # Write header row\n",
    "    writer.writerow(['Name', 'Price', 'Description'])\n",
    "    # Write product data to CSV\n",
    "    writer.writerows(products_data)\n"
   ]
  },
  {
   "cell_type": "code",
   "execution_count": null,
   "metadata": {},
   "outputs": [],
   "source": []
  }
 ],
 "metadata": {
  "kernelspec": {
   "display_name": "Python 3",
   "language": "python",
   "name": "python3"
  },
  "language_info": {
   "codemirror_mode": {
    "name": "ipython",
    "version": 3
   },
   "file_extension": ".py",
   "mimetype": "text/x-python",
   "name": "python",
   "nbconvert_exporter": "python",
   "pygments_lexer": "ipython3",
   "version": "3.7.4"
  }
 },
 "nbformat": 4,
 "nbformat_minor": 4
}
